{
 "cells": [
  {
   "cell_type": "code",
   "execution_count": 2,
   "id": "25881ef0",
   "metadata": {},
   "outputs": [],
   "source": [
    "import tkinter as tk\n",
    "import threading\n",
    "\n",
    "def read_grid(r, c):\n",
    "    return [[int(e) for e in input().split()] for _ in range(r)]\n",
    "\n",
    "def execute_code():\n",
    "    rp = int(rp_entry.get())\n",
    "    cp = int(cp_entry.get())\n",
    "    motif = read_grid(rp, cp)\n",
    "    rq = int(rq_entry.get())\n",
    "    cq = int(cq_entry.get())\n",
    "    mosaic = read_grid(rq, cq)\n",
    "    result=[]\n",
    "    for i in range(rq - rp + 1):\n",
    "        for j in range(cq - cp + 1):\n",
    "            for x in range(rp):\n",
    "                for y in range(cp):\n",
    "                    if motif[x][y] != 0 and motif[x][y] != mosaic[i + x][j + y]:\n",
    "                        break\n",
    "                else:\n",
    "                    continue\n",
    "                break\n",
    "            else:\n",
    "                result.append((i,j))\n",
    "    result_label.config(text=f\"Number of matches: {len(result)}\\n{result}\")\n",
    "\n",
    "root = tk.Tk()\n",
    "root.title(\"Motif Mosaic Matcher\")\n",
    "\n",
    "rp_label = tk.Label(root, text=\"Enter the number of rows in motif:\")\n",
    "rp_label.grid(row=0, column=0, padx=5, pady=5)\n",
    "rp_entry = tk.Entry(root)\n",
    "rp_entry.grid(row=0, column=1, padx=5, pady=5)\n",
    "\n",
    "cp_label = tk.Label(root, text=\"Enter the number of columns in motif:\")\n",
    "cp_label.grid(row=1, column=0, padx=5, pady=5)\n",
    "cp_entry = tk.Entry(root)\n",
    "cp_entry.grid(row=1, column=1, padx=5, pady=5)\n",
    "\n",
    "rq_label = tk.Label(root, text=\"Enter the number of rows in mosaic:\")\n",
    "rq_label.grid(row=2, column=0, padx=5, pady=5)\n",
    "rq_entry = tk.Entry(root)\n",
    "rq_entry.grid(row=2, column=1, padx=5, pady=5)\n",
    "\n",
    "cq_label = tk.Label(root, text=\"Enter the number of columns in mosaic:\")\n",
    "cq_label.grid(row=3, column=0, padx=5, pady=5)\n",
    "cq_entry = tk.Entry(root)\n",
    "cq_entry.grid(row=3, column=1, padx=5, pady=5)\n",
    "\n",
    "execute_button = tk.Button(root, text=\"Execute\", command=threading.Thread(target=execute_code).start)\n",
    "execute_button.grid(row=4, column=0, columnspan=2, padx=5, pady=5)\n",
    "\n",
    "result_label = tk.Label(root, text=\"\")\n",
    "result_label.grid(row=5, column=0, columnspan=2, padx=5, pady=5)\n",
    "\n",
    "root.mainloop()"
   ]
  },
  {
   "cell_type": "code",
   "execution_count": null,
   "id": "ff4fd7bb",
   "metadata": {},
   "outputs": [],
   "source": []
  }
 ],
 "metadata": {
  "kernelspec": {
   "display_name": "Python 3 (ipykernel)",
   "language": "python",
   "name": "python3"
  },
  "language_info": {
   "codemirror_mode": {
    "name": "ipython",
    "version": 3
   },
   "file_extension": ".py",
   "mimetype": "text/x-python",
   "name": "python",
   "nbconvert_exporter": "python",
   "pygments_lexer": "ipython3",
   "version": "3.9.7"
  }
 },
 "nbformat": 4,
 "nbformat_minor": 5
}
